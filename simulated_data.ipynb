{
 "cells": [
  {
   "cell_type": "code",
   "execution_count": 1,
   "metadata": {},
   "outputs": [],
   "source": [
    "import pandas as pd\n",
    "import numpy as np  "
   ]
  },
  {
   "cell_type": "code",
   "execution_count": 2,
   "metadata": {},
   "outputs": [],
   "source": [
    "mid_prices = [100]\n",
    "days = 10\n",
    "for t in range(days * 9 * 3600):\n",
    "    mid_prices.append(mid_prices[-1] + np.random.normal(0, 0.01))"
   ]
  },
  {
   "cell_type": "code",
   "execution_count": 3,
   "metadata": {},
   "outputs": [],
   "source": [
    "spreads = np.random.uniform(0.01, 0.04, size=days * 9 * 3600)\n",
    "bid_prices = [mid - spread/2 for mid, spread in zip(mid_prices, spreads)]\n",
    "ask_prices = [mid + spread / 2 for mid, spread in zip(mid_prices, spreads)]"
   ]
  },
  {
   "cell_type": "code",
   "execution_count": null,
   "metadata": {},
   "outputs": [],
   "source": [
    "trade_volume = np.random.choice(\n",
    "    [0, 10, 25, 50, 100], size=3600 * 9 * days, p=[0.3, 0.2, 0.2, 0.2, 0.1]\n",
    ")"
   ]
  }
 ],
 "metadata": {
  "kernelspec": {
   "display_name": ".venv",
   "language": "python",
   "name": "python3"
  },
  "language_info": {
   "codemirror_mode": {
    "name": "ipython",
    "version": 3
   },
   "file_extension": ".py",
   "mimetype": "text/x-python",
   "name": "python",
   "nbconvert_exporter": "python",
   "pygments_lexer": "ipython3",
   "version": "3.10.7"
  }
 },
 "nbformat": 4,
 "nbformat_minor": 2
}
