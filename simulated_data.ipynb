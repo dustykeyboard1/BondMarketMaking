{
 "cells": [
  {
   "cell_type": "code",
   "execution_count": 46,
   "metadata": {},
   "outputs": [],
   "source": [
    "import pandas as pd\n",
    "import numpy as np  \n",
    "from matplotlib import pyplot as plt\n",
    "from datetime import datetime, timedelta"
   ]
  },
  {
   "cell_type": "code",
   "execution_count": 47,
   "metadata": {},
   "outputs": [],
   "source": [
    "mid_prices = [100]\n",
    "days = 10\n",
    "for t in range(days * 9 * 3600):\n",
    "    mid_prices.append(mid_prices[-1] + np.random.normal(0, 0.01))\n",
    "del mid_prices[0]  "
   ]
  },
  {
   "cell_type": "code",
   "execution_count": 48,
   "metadata": {},
   "outputs": [],
   "source": [
    "spreads = np.random.uniform(0.01, 0.04, size=days * 9 * 3600)\n",
    "bid_prices = [mid - spread/2 for mid, spread in zip(mid_prices, spreads)]\n",
    "ask_prices = [mid + spread / 2 for mid, spread in zip(mid_prices, spreads)]"
   ]
  },
  {
   "cell_type": "code",
   "execution_count": 49,
   "metadata": {},
   "outputs": [],
   "source": [
    "k_base = 60\n",
    "k_values = np.random.normal(loc=k_base, scale=2, size=3600*days*9)\n",
    "np.clip(k_values, 30, 90)\n",
    "max_trades_per_second = 5\n",
    "lambdas = max_trades_per_second * np.exp(-k_values * spreads)\n",
    "trade_counts = np.random.poisson(lam=lambdas)"
   ]
  },
  {
   "cell_type": "code",
   "execution_count": 50,
   "metadata": {},
   "outputs": [],
   "source": [
    "def generate_timestamps(start_date, days, seconds_per_day):\n",
    "    timestamps = []\n",
    "    base_date = pd.to_datetime(start_date)\n",
    "\n",
    "    for d in range(days):\n",
    "        day_start = base_date + pd.Timedelta(days=d) + pd.Timedelta(hours=8, minutes=0)\n",
    "        for s in range(seconds_per_day):\n",
    "            timestamps.append(day_start + pd.Timedelta(seconds=s))\n",
    "\n",
    "    return timestamps"
   ]
  },
  {
   "cell_type": "code",
   "execution_count": 51,
   "metadata": {},
   "outputs": [],
   "source": [
    "timestamps = generate_timestamps(\"2025-01-01\", days, 3600*9)\n",
    "\n",
    "# Create DataFrame\n",
    "df = pd.DataFrame({\n",
    "    \"timestamp\": timestamps,\n",
    "    \"mid_price\": mid_prices,\n",
    "    \"bid_price\": bid_prices,\n",
    "    \"ask_price\": ask_prices,\n",
    "    \"volume\": trade_counts\n",
    "})"
   ]
  },
  {
   "cell_type": "code",
   "execution_count": 52,
   "metadata": {},
   "outputs": [],
   "source": [
    "df.to_csv(\"Data/simulated_bond_data.csv\", index=False)"
   ]
  },
  {
   "cell_type": "code",
   "execution_count": null,
   "metadata": {},
   "outputs": [],
   "source": []
  }
 ],
 "metadata": {
  "kernelspec": {
   "display_name": ".venv",
   "language": "python",
   "name": "python3"
  },
  "language_info": {
   "codemirror_mode": {
    "name": "ipython",
    "version": 3
   },
   "file_extension": ".py",
   "mimetype": "text/x-python",
   "name": "python",
   "nbconvert_exporter": "python",
   "pygments_lexer": "ipython3",
   "version": "3.11.9"
  }
 },
 "nbformat": 4,
 "nbformat_minor": 2
}
